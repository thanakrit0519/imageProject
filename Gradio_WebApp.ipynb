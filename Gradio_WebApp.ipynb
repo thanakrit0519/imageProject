{
  "nbformat": 4,
  "nbformat_minor": 0,
  "metadata": {
    "colab": {
      "provenance": [],
      "gpuType": "T4",
      "include_colab_link": true
    },
    "kernelspec": {
      "display_name": "Python 3",
      "name": "python3"
    },
    "language_info": {
      "name": "python"
    },
    "accelerator": "GPU"
  },
  "cells": [
    {
      "cell_type": "markdown",
      "metadata": {
        "id": "view-in-github",
        "colab_type": "text"
      },
      "source": [
        "<a href=\"https://colab.research.google.com/github/thanakrit0519/imageProject/blob/main/Gradio_WebApp.ipynb\" target=\"_parent\"><img src=\"https://colab.research.google.com/assets/colab-badge.svg\" alt=\"Open In Colab\"/></a>"
      ]
    },
    {
      "cell_type": "code",
      "metadata": {
        "colab": {
          "base_uri": "https://localhost:8080/"
        },
        "id": "zf3h2tgxpQOl",
        "outputId": "6fcb59d8-4e79-4ac7-d0df-83cf3b9319d8"
      },
      "source": [
        "!pip install gradio"
      ],
      "execution_count": null,
      "outputs": [
        {
          "output_type": "stream",
          "name": "stdout",
          "text": [
            "Collecting gradio\n",
            "  Downloading gradio-3.50.2-py3-none-any.whl (20.3 MB)\n",
            "\u001b[2K     \u001b[90m━━━━━━━━━━━━━━━━━━━━━━━━━━━━━━━━━━━━━━━━\u001b[0m \u001b[32m20.3/20.3 MB\u001b[0m \u001b[31m58.0 MB/s\u001b[0m eta \u001b[36m0:00:00\u001b[0m\n",
            "\u001b[?25hCollecting aiofiles<24.0,>=22.0 (from gradio)\n",
            "  Downloading aiofiles-23.2.1-py3-none-any.whl (15 kB)\n",
            "Requirement already satisfied: altair<6.0,>=4.2.0 in /usr/local/lib/python3.10/dist-packages (from gradio) (4.2.2)\n",
            "Collecting fastapi (from gradio)\n",
            "  Downloading fastapi-0.104.0-py3-none-any.whl (92 kB)\n",
            "\u001b[2K     \u001b[90m━━━━━━━━━━━━━━━━━━━━━━━━━━━━━━━━━━━━━━━━\u001b[0m \u001b[32m92.9/92.9 kB\u001b[0m \u001b[31m13.0 MB/s\u001b[0m eta \u001b[36m0:00:00\u001b[0m\n",
            "\u001b[?25hCollecting ffmpy (from gradio)\n",
            "  Downloading ffmpy-0.3.1.tar.gz (5.5 kB)\n",
            "  Preparing metadata (setup.py) ... \u001b[?25l\u001b[?25hdone\n",
            "Collecting gradio-client==0.6.1 (from gradio)\n",
            "  Downloading gradio_client-0.6.1-py3-none-any.whl (299 kB)\n",
            "\u001b[2K     \u001b[90m━━━━━━━━━━━━━━━━━━━━━━━━━━━━━━━━━━━━━━━━\u001b[0m \u001b[32m299.2/299.2 kB\u001b[0m \u001b[31m33.2 MB/s\u001b[0m eta \u001b[36m0:00:00\u001b[0m\n",
            "\u001b[?25hCollecting httpx (from gradio)\n",
            "  Downloading httpx-0.25.0-py3-none-any.whl (75 kB)\n",
            "\u001b[2K     \u001b[90m━━━━━━━━━━━━━━━━━━━━━━━━━━━━━━━━━━━━━━━━\u001b[0m \u001b[32m75.7/75.7 kB\u001b[0m \u001b[31m10.5 MB/s\u001b[0m eta \u001b[36m0:00:00\u001b[0m\n",
            "\u001b[?25hCollecting huggingface-hub>=0.14.0 (from gradio)\n",
            "  Downloading huggingface_hub-0.18.0-py3-none-any.whl (301 kB)\n",
            "\u001b[2K     \u001b[90m━━━━━━━━━━━━━━━━━━━━━━━━━━━━━━━━━━━━━━━━\u001b[0m \u001b[32m302.0/302.0 kB\u001b[0m \u001b[31m35.3 MB/s\u001b[0m eta \u001b[36m0:00:00\u001b[0m\n",
            "\u001b[?25hRequirement already satisfied: importlib-resources<7.0,>=1.3 in /usr/local/lib/python3.10/dist-packages (from gradio) (6.1.0)\n",
            "Requirement already satisfied: jinja2<4.0 in /usr/local/lib/python3.10/dist-packages (from gradio) (3.1.2)\n",
            "Requirement already satisfied: markupsafe~=2.0 in /usr/local/lib/python3.10/dist-packages (from gradio) (2.1.3)\n",
            "Requirement already satisfied: matplotlib~=3.0 in /usr/local/lib/python3.10/dist-packages (from gradio) (3.7.1)\n",
            "Requirement already satisfied: numpy~=1.0 in /usr/local/lib/python3.10/dist-packages (from gradio) (1.23.5)\n",
            "Collecting orjson~=3.0 (from gradio)\n",
            "  Downloading orjson-3.9.9-cp310-cp310-manylinux_2_17_x86_64.manylinux2014_x86_64.whl (138 kB)\n",
            "\u001b[2K     \u001b[90m━━━━━━━━━━━━━━━━━━━━━━━━━━━━━━━━━━━━━━━━\u001b[0m \u001b[32m138.7/138.7 kB\u001b[0m \u001b[31m17.3 MB/s\u001b[0m eta \u001b[36m0:00:00\u001b[0m\n",
            "\u001b[?25hRequirement already satisfied: packaging in /usr/local/lib/python3.10/dist-packages (from gradio) (23.2)\n",
            "Requirement already satisfied: pandas<3.0,>=1.0 in /usr/local/lib/python3.10/dist-packages (from gradio) (1.5.3)\n",
            "Requirement already satisfied: pillow<11.0,>=8.0 in /usr/local/lib/python3.10/dist-packages (from gradio) (9.4.0)\n",
            "Requirement already satisfied: pydantic!=1.8,!=1.8.1,!=2.0.0,!=2.0.1,<3.0.0,>=1.7.4 in /usr/local/lib/python3.10/dist-packages (from gradio) (1.10.13)\n",
            "Collecting pydub (from gradio)\n",
            "  Downloading pydub-0.25.1-py2.py3-none-any.whl (32 kB)\n",
            "Collecting python-multipart (from gradio)\n",
            "  Downloading python_multipart-0.0.6-py3-none-any.whl (45 kB)\n",
            "\u001b[2K     \u001b[90m━━━━━━━━━━━━━━━━━━━━━━━━━━━━━━━━━━━━━━━━\u001b[0m \u001b[32m45.7/45.7 kB\u001b[0m \u001b[31m6.3 MB/s\u001b[0m eta \u001b[36m0:00:00\u001b[0m\n",
            "\u001b[?25hRequirement already satisfied: pyyaml<7.0,>=5.0 in /usr/local/lib/python3.10/dist-packages (from gradio) (6.0.1)\n",
            "Requirement already satisfied: requests~=2.0 in /usr/local/lib/python3.10/dist-packages (from gradio) (2.31.0)\n",
            "Collecting semantic-version~=2.0 (from gradio)\n",
            "  Downloading semantic_version-2.10.0-py2.py3-none-any.whl (15 kB)\n",
            "Requirement already satisfied: typing-extensions~=4.0 in /usr/local/lib/python3.10/dist-packages (from gradio) (4.5.0)\n",
            "Collecting uvicorn>=0.14.0 (from gradio)\n",
            "  Downloading uvicorn-0.23.2-py3-none-any.whl (59 kB)\n",
            "\u001b[2K     \u001b[90m━━━━━━━━━━━━━━━━━━━━━━━━━━━━━━━━━━━━━━━━\u001b[0m \u001b[32m59.5/59.5 kB\u001b[0m \u001b[31m8.7 MB/s\u001b[0m eta \u001b[36m0:00:00\u001b[0m\n",
            "\u001b[?25hCollecting websockets<12.0,>=10.0 (from gradio)\n",
            "  Downloading websockets-11.0.3-cp310-cp310-manylinux_2_5_x86_64.manylinux1_x86_64.manylinux_2_17_x86_64.manylinux2014_x86_64.whl (129 kB)\n",
            "\u001b[2K     \u001b[90m━━━━━━━━━━━━━━━━━━━━━━━━━━━━━━━━━━━━━━━━\u001b[0m \u001b[32m129.9/129.9 kB\u001b[0m \u001b[31m16.7 MB/s\u001b[0m eta \u001b[36m0:00:00\u001b[0m\n",
            "\u001b[?25hRequirement already satisfied: fsspec in /usr/local/lib/python3.10/dist-packages (from gradio-client==0.6.1->gradio) (2023.6.0)\n",
            "Requirement already satisfied: entrypoints in /usr/local/lib/python3.10/dist-packages (from altair<6.0,>=4.2.0->gradio) (0.4)\n",
            "Requirement already satisfied: jsonschema>=3.0 in /usr/local/lib/python3.10/dist-packages (from altair<6.0,>=4.2.0->gradio) (4.19.1)\n",
            "Requirement already satisfied: toolz in /usr/local/lib/python3.10/dist-packages (from altair<6.0,>=4.2.0->gradio) (0.12.0)\n",
            "Requirement already satisfied: filelock in /usr/local/lib/python3.10/dist-packages (from huggingface-hub>=0.14.0->gradio) (3.12.4)\n",
            "Requirement already satisfied: tqdm>=4.42.1 in /usr/local/lib/python3.10/dist-packages (from huggingface-hub>=0.14.0->gradio) (4.66.1)\n",
            "Requirement already satisfied: contourpy>=1.0.1 in /usr/local/lib/python3.10/dist-packages (from matplotlib~=3.0->gradio) (1.1.1)\n",
            "Requirement already satisfied: cycler>=0.10 in /usr/local/lib/python3.10/dist-packages (from matplotlib~=3.0->gradio) (0.12.1)\n",
            "Requirement already satisfied: fonttools>=4.22.0 in /usr/local/lib/python3.10/dist-packages (from matplotlib~=3.0->gradio) (4.43.1)\n",
            "Requirement already satisfied: kiwisolver>=1.0.1 in /usr/local/lib/python3.10/dist-packages (from matplotlib~=3.0->gradio) (1.4.5)\n",
            "Requirement already satisfied: pyparsing>=2.3.1 in /usr/local/lib/python3.10/dist-packages (from matplotlib~=3.0->gradio) (3.1.1)\n",
            "Requirement already satisfied: python-dateutil>=2.7 in /usr/local/lib/python3.10/dist-packages (from matplotlib~=3.0->gradio) (2.8.2)\n",
            "Requirement already satisfied: pytz>=2020.1 in /usr/local/lib/python3.10/dist-packages (from pandas<3.0,>=1.0->gradio) (2023.3.post1)\n",
            "Requirement already satisfied: charset-normalizer<4,>=2 in /usr/local/lib/python3.10/dist-packages (from requests~=2.0->gradio) (3.3.0)\n",
            "Requirement already satisfied: idna<4,>=2.5 in /usr/local/lib/python3.10/dist-packages (from requests~=2.0->gradio) (3.4)\n",
            "Requirement already satisfied: urllib3<3,>=1.21.1 in /usr/local/lib/python3.10/dist-packages (from requests~=2.0->gradio) (2.0.7)\n",
            "Requirement already satisfied: certifi>=2017.4.17 in /usr/local/lib/python3.10/dist-packages (from requests~=2.0->gradio) (2023.7.22)\n",
            "Requirement already satisfied: click>=7.0 in /usr/local/lib/python3.10/dist-packages (from uvicorn>=0.14.0->gradio) (8.1.7)\n",
            "Collecting h11>=0.8 (from uvicorn>=0.14.0->gradio)\n",
            "  Downloading h11-0.14.0-py3-none-any.whl (58 kB)\n",
            "\u001b[2K     \u001b[90m━━━━━━━━━━━━━━━━━━━━━━━━━━━━━━━━━━━━━━━━\u001b[0m \u001b[32m58.3/58.3 kB\u001b[0m \u001b[31m7.7 MB/s\u001b[0m eta \u001b[36m0:00:00\u001b[0m\n",
            "\u001b[?25hRequirement already satisfied: anyio<4.0.0,>=3.7.1 in /usr/local/lib/python3.10/dist-packages (from fastapi->gradio) (3.7.1)\n",
            "Collecting starlette<0.28.0,>=0.27.0 (from fastapi->gradio)\n",
            "  Downloading starlette-0.27.0-py3-none-any.whl (66 kB)\n",
            "\u001b[2K     \u001b[90m━━━━━━━━━━━━━━━━━━━━━━━━━━━━━━━━━━━━━━━━\u001b[0m \u001b[32m67.0/67.0 kB\u001b[0m \u001b[31m9.4 MB/s\u001b[0m eta \u001b[36m0:00:00\u001b[0m\n",
            "\u001b[?25hCollecting typing-extensions~=4.0 (from gradio)\n",
            "  Downloading typing_extensions-4.8.0-py3-none-any.whl (31 kB)\n",
            "Collecting httpcore<0.19.0,>=0.18.0 (from httpx->gradio)\n",
            "  Downloading httpcore-0.18.0-py3-none-any.whl (76 kB)\n",
            "\u001b[2K     \u001b[90m━━━━━━━━━━━━━━━━━━━━━━━━━━━━━━━━━━━━━━━━\u001b[0m \u001b[32m76.0/76.0 kB\u001b[0m \u001b[31m11.3 MB/s\u001b[0m eta \u001b[36m0:00:00\u001b[0m\n",
            "\u001b[?25hRequirement already satisfied: sniffio in /usr/local/lib/python3.10/dist-packages (from httpx->gradio) (1.3.0)\n",
            "Requirement already satisfied: exceptiongroup in /usr/local/lib/python3.10/dist-packages (from anyio<4.0.0,>=3.7.1->fastapi->gradio) (1.1.3)\n",
            "Requirement already satisfied: attrs>=22.2.0 in /usr/local/lib/python3.10/dist-packages (from jsonschema>=3.0->altair<6.0,>=4.2.0->gradio) (23.1.0)\n",
            "Requirement already satisfied: jsonschema-specifications>=2023.03.6 in /usr/local/lib/python3.10/dist-packages (from jsonschema>=3.0->altair<6.0,>=4.2.0->gradio) (2023.7.1)\n",
            "Requirement already satisfied: referencing>=0.28.4 in /usr/local/lib/python3.10/dist-packages (from jsonschema>=3.0->altair<6.0,>=4.2.0->gradio) (0.30.2)\n",
            "Requirement already satisfied: rpds-py>=0.7.1 in /usr/local/lib/python3.10/dist-packages (from jsonschema>=3.0->altair<6.0,>=4.2.0->gradio) (0.10.6)\n",
            "Requirement already satisfied: six>=1.5 in /usr/local/lib/python3.10/dist-packages (from python-dateutil>=2.7->matplotlib~=3.0->gradio) (1.16.0)\n",
            "Building wheels for collected packages: ffmpy\n",
            "  Building wheel for ffmpy (setup.py) ... \u001b[?25l\u001b[?25hdone\n",
            "  Created wheel for ffmpy: filename=ffmpy-0.3.1-py3-none-any.whl size=5579 sha256=3968d652d0378101334b328f0e76477b2c971bd43fe25dc1ae155d19cb6ea962\n",
            "  Stored in directory: /root/.cache/pip/wheels/01/a6/d1/1c0828c304a4283b2c1639a09ad86f83d7c487ef34c6b4a1bf\n",
            "Successfully built ffmpy\n",
            "Installing collected packages: pydub, ffmpy, websockets, typing-extensions, semantic-version, python-multipart, orjson, h11, aiofiles, uvicorn, starlette, huggingface-hub, httpcore, httpx, fastapi, gradio-client, gradio\n",
            "  Attempting uninstall: typing-extensions\n",
            "    Found existing installation: typing_extensions 4.5.0\n",
            "    Uninstalling typing_extensions-4.5.0:\n",
            "      Successfully uninstalled typing_extensions-4.5.0\n",
            "\u001b[31mERROR: pip's dependency resolver does not currently take into account all the packages that are installed. This behaviour is the source of the following dependency conflicts.\n",
            "lida 0.0.10 requires kaleido, which is not installed.\n",
            "tensorflow-probability 0.22.0 requires typing-extensions<4.6.0, but you have typing-extensions 4.8.0 which is incompatible.\u001b[0m\u001b[31m\n",
            "\u001b[0mSuccessfully installed aiofiles-23.2.1 fastapi-0.104.0 ffmpy-0.3.1 gradio-3.50.2 gradio-client-0.6.1 h11-0.14.0 httpcore-0.18.0 httpx-0.25.0 huggingface-hub-0.18.0 orjson-3.9.9 pydub-0.25.1 python-multipart-0.0.6 semantic-version-2.10.0 starlette-0.27.0 typing-extensions-4.8.0 uvicorn-0.23.2 websockets-11.0.3\n"
          ]
        }
      ]
    },
    {
      "cell_type": "code",
      "metadata": {
        "id": "69-AHVfQpgnh"
      },
      "source": [
        "import gradio as gr"
      ],
      "execution_count": null,
      "outputs": []
    },
    {
      "cell_type": "code",
      "metadata": {
        "id": "xb714YalpiuK"
      },
      "source": [
        "import matplotlib.pyplot as plt\n",
        "import numpy as np\n",
        "import os\n",
        "import PIL\n",
        "import tensorflow as tf\n",
        "\n",
        "from tensorflow import keras\n",
        "from tensorflow.keras import layers\n",
        "from tensorflow.keras.models import Sequential"
      ],
      "execution_count": null,
      "outputs": []
    },
    {
      "cell_type": "code",
      "source": [
        "import os\n",
        "import cv2\n",
        "import numpy as np\n",
        "import pandas as pd\n",
        "import matplotlib.pyplot as plt\n",
        "%matplotlib inline\n",
        "from tqdm import tqdm\n",
        "from sklearn.model_selection import train_test_split\n",
        "\n",
        "from keras.models import Sequential\n",
        "from keras.layers import Convolution2D, MaxPooling2D, Flatten, Dense, BatchNormalization\n",
        "from keras.optimizers import Adam\n",
        "from keras.callbacks import ModelCheckpoint,ReduceLROnPlateau, EarlyStopping\n",
        "from keras.preprocessing.image import ImageDataGenerator\n",
        "\n",
        "\n",
        "from keras.applications import *\n",
        "from keras.applications.vgg19 import preprocess_input\n",
        "from keras import Model, layers\n",
        "from keras.models import load_model, model_from_json\n",
        "import numpy as np\n",
        "import cv2\n",
        "from matplotlib import pyplot as plt\n",
        "from tensorflow.keras.models import Model\n",
        "from tensorflow.keras.applications import MobileNet\n",
        "from tensorflow.keras.applications.mobilenet import preprocess_input\n",
        "from tensorflow.keras.preprocessing.image import load_img, img_to_array, ImageDataGenerator\n",
        "from keras.utils import to_categorical\n",
        "from tensorflow.keras.optimizers import Adam\n",
        "from sklearn.metrics import confusion_matrix, classification_report\n",
        "from tensorflow.keras.layers import Dense, Conv2D, MaxPool2D, UpSampling2D,GlobalAveragePooling2D"
      ],
      "metadata": {
        "id": "4TGO_OPNUYiO"
      },
      "execution_count": 69,
      "outputs": []
    },
    {
      "cell_type": "code",
      "source": [
        "from google.colab import drive\n",
        "drive.mount('/content/drive')"
      ],
      "metadata": {
        "colab": {
          "base_uri": "https://localhost:8080/"
        },
        "id": "NXS0SgQxDANK",
        "outputId": "51322505-15a4-4ce0-ab8f-9a747f5f5c74"
      },
      "execution_count": null,
      "outputs": [
        {
          "output_type": "stream",
          "name": "stdout",
          "text": [
            "Mounted at /content/drive\n"
          ]
        }
      ]
    },
    {
      "cell_type": "code",
      "source": [
        "import zipfile\n",
        "\n",
        "zip_file_path = '/content/drive/MyDrive/imageP/TrafficSignsDataset.zip'\n",
        "extract_path = '/content/drive/MyDrive/imageP/Dataset'\n",
        "\n",
        "with zipfile.ZipFile(zip_file_path, 'r') as zip_ref:\n",
        "    zip_ref.extractall(extract_path)"
      ],
      "metadata": {
        "id": "zeWyH9_rKr3d"
      },
      "execution_count": null,
      "outputs": []
    },
    {
      "cell_type": "code",
      "source": [
        "from tensorflow.keras.models import load_model\n",
        "\n",
        "# Load the model from the HDF5 file\n",
        "model = load_model('/content/drive/MyDrive/imageProject/model_xception20epoch.h5')\n",
        "model.summary()"
      ],
      "metadata": {
        "id": "1Ey-g-0w_2f8"
      },
      "execution_count": null,
      "outputs": []
    },
    {
      "cell_type": "code",
      "source": [
        "model2 = load_model('/content/drive/MyDrive/imageProject/model_model_ResNet50_20epoch.h5')\n",
        "model.summary()"
      ],
      "metadata": {
        "id": "Z-ZXe66QOdKq"
      },
      "execution_count": null,
      "outputs": []
    },
    {
      "cell_type": "code",
      "source": [
        "new_class_name = [\n",
        "'Speed limit (5km/h)',\n",
        "'Speed limit (40km/h)',\n",
        "'Speed limit (50km/h)',\n",
        "'Speed limit (60km/h)',\n",
        "'Speed limit (80km/h)',\n",
        "'Dont Go Left',\n",
        "'Dont Go Left or Right',\n",
        "'Dont overtake from Left',\n",
        "'No Car',\n",
        "'No horn',\n",
        "'Go Right',\n",
        "'keep Right',\n",
        "'watch out for cars',\n",
        "'Bicycles crossing',\n",
        "'Zebra Crossing',\n",
        "'No stopping',\n",
        "'No entry'\n",
        "]\n"
      ],
      "metadata": {
        "id": "k1MDoNsa4qI0"
      },
      "execution_count": null,
      "outputs": []
    },
    {
      "cell_type": "code",
      "source": [
        "part_img= [\"/content/image/ResNet50.png\",\"/content/image/xception.png\"]\n",
        "def show_img(str):\n",
        "    return\"/content/image/\"+str+\".png\"\n",
        "    #return gr.Image(type=\"filepath\", value=\"/images/daisy.jpg\")"
      ],
      "metadata": {
        "id": "ZTye2IKKeaai"
      },
      "execution_count": null,
      "outputs": []
    },
    {
      "cell_type": "code",
      "source": [
        "from tensorflow.keras.preprocessing import image\n",
        "from tensorflow.keras.applications.mobilenet import preprocess_input\n",
        "from tensorflow.keras.utils import img_to_array"
      ],
      "metadata": {
        "id": "LQU5btVOR9tx"
      },
      "execution_count": 73,
      "outputs": []
    },
    {
      "cell_type": "code",
      "metadata": {
        "id": "C06cyUCGXv2v"
      },
      "source": [
        "def predict_image(img):\n",
        "  #img_4d=img.reshape(-1,224,224,3)\n",
        "  plt.imshow(img)\n",
        "  img = img_to_array(img)\n",
        "  img = np.expand_dims(img, axis=0)\n",
        "  img = preprocess_input(img)\n",
        "  prediction=model.predict(img)[0]\n",
        "  prediction2=model2.predict(img)[0]\n",
        "  print(prediction)\n",
        "  print(prediction2)\n",
        "  a = {new_class_name[i]: float(prediction[i]) for i in range(17)}\n",
        "  b=  {new_class_name[i]: float(prediction2[i]) for i in range(17)}\n",
        "  m1 = max(prediction)\n",
        "  m2 = max(prediction2)\n",
        "  indexM1 = list(prediction).index(m1)\n",
        "  indexM2 = list(prediction2).index(m2)\n",
        "  print(indexM1,indexM2)\n",
        "  part_img =[show_img(str(indexM1)),show_img(str(indexM2))]\n",
        "\n",
        "  return a , b,part_img[0],part_img[1]"
      ],
      "execution_count": 74,
      "outputs": []
    },
    {
      "cell_type": "code",
      "source": [
        "with gr.Blocks(css = \".gradio-container img{width:900px;height:300px;}\") as demo:\n",
        "    gr.Markdown(\n",
        "    \"\"\"\n",
        "    <h1 align=\"center\">\n",
        "      Image Processing Final Project 2566/1\n",
        "    </h1>\n",
        "    <h3 align=\"center\">\n",
        "      Application For Traffic Signs Classification.\n",
        "    </h3>\n",
        "\n",
        "    \"\"\")\n",
        "    with gr.Column():\n",
        "\n",
        "        image = gr.inputs.Image(shape=(224,224),label=\"Upload Image for Classification\")\n",
        "        with gr.Row():\n",
        "          with gr.Column():\n",
        "            img1 = gr.Image(shape=(900,300),width = 900, height = 300, type=\"filepath\", value=part_img[0], label=\"predict image of ResNet50 Model\")\n",
        "            label_1 = gr.Label(num_top_classes=17,label=\"Predict result of ResNet50 Model\")\n",
        "          with gr.Column():\n",
        "            img2 = gr.Image(shape=(900,300),width = 900, height = 300, type=\"filepath\", value=part_img[1], label=\"predict image of Xception Model\")\n",
        "            label_2 = gr.Label(num_top_classes=17,label=\"Predict result of Xception Model\")\n",
        "        btnSubmit = gr.Button(\"Submit\")\n",
        "        btnSubmit.click(fn=predict_image, inputs=image, outputs=[label_1,label_2,img1,img2])\n",
        "    gr.Markdown(\n",
        "    \"\"\"\n",
        "    <p align=\"center\"></p>\n",
        "    <h3 align=\"center\">\n",
        "      รายชื่อสมาชิกกลุ่ม\n",
        "    </h3>\n",
        "    <p align=\"center\">\n",
        "      64010304    ธนกฤต        พันสีมา<br>\n",
        "      64010312    ธนทัต        จงกิตติสกุล<br>\n",
        "      64010359    ธัญชนก    จรุงพัฒนานนท์<br>\n",
        "      64010522  ปาริตา     นาวารี\n",
        "    </p>\n",
        "    \"\"\")\n",
        "demo.launch(debug='True')"
      ],
      "metadata": {
        "colab": {
          "base_uri": "https://localhost:8080/",
          "height": 1000
        },
        "id": "dutrf30XNBvJ",
        "outputId": "5a7a1aa3-8310-4d28-8027-f3004b19087e"
      },
      "execution_count": 75,
      "outputs": [
        {
          "output_type": "stream",
          "name": "stderr",
          "text": [
            "<ipython-input-75-ba9586267ea9>:14: GradioDeprecationWarning: Usage of gradio.inputs is deprecated, and will not be supported in the future, please import your component from gradio.components\n",
            "  image = gr.inputs.Image(shape=(224,224),label=\"Upload Image for Classification\")\n",
            "<ipython-input-75-ba9586267ea9>:14: GradioDeprecationWarning: `optional` parameter is deprecated, and it has no effect\n",
            "  image = gr.inputs.Image(shape=(224,224),label=\"Upload Image for Classification\")\n"
          ]
        },
        {
          "output_type": "stream",
          "name": "stdout",
          "text": [
            "Setting queue=True in a Colab notebook requires sharing enabled. Setting `share=True` (you can turn this off by setting `share=False` in `launch()` explicitly).\n",
            "\n",
            "Colab notebook detected. This cell will run indefinitely so that you can see errors and logs. To turn off, set debug=False in launch().\n",
            "Running on public URL: https://79d2b8db7af4e96af3.gradio.live\n",
            "\n",
            "This share link expires in 72 hours. For free permanent hosting and GPU upgrades, run `gradio deploy` from Terminal to deploy to Spaces (https://huggingface.co/spaces)\n"
          ]
        },
        {
          "output_type": "display_data",
          "data": {
            "text/plain": [
              "<IPython.core.display.HTML object>"
            ],
            "text/html": [
              "<div><iframe src=\"https://79d2b8db7af4e96af3.gradio.live\" width=\"100%\" height=\"500\" allow=\"autoplay; camera; microphone; clipboard-read; clipboard-write;\" frameborder=\"0\" allowfullscreen></iframe></div>"
            ]
          },
          "metadata": {}
        },
        {
          "output_type": "stream",
          "name": "stdout",
          "text": [
            "1/1 [==============================] - 1s 733ms/step\n",
            "1/1 [==============================] - 1s 880ms/step\n",
            "[9.99991298e-01 4.56701805e-08 4.82737278e-06 1.49219872e-07\n",
            " 8.68816059e-08 1.19895525e-08 1.26989306e-07 1.36436972e-06\n",
            " 3.26041146e-07 1.95832541e-07 2.42788168e-11 5.30829714e-10\n",
            " 7.81860592e-07 8.92973731e-08 4.41891359e-08 7.31931538e-09\n",
            " 7.42538759e-07]\n",
            "[9.9999988e-01 2.4167827e-14 1.3697299e-07 3.1181385e-10 1.1892882e-15\n",
            " 1.2468338e-08 9.3172836e-10 2.5631111e-10 1.5517858e-09 9.4587038e-10\n",
            " 1.7958308e-12 4.7932124e-20 2.5819808e-11 1.4974927e-17 7.7136207e-15\n",
            " 1.8625868e-13 6.9160708e-14]\n",
            "0 0\n",
            "1/1 [==============================] - 0s 36ms/step\n",
            "1/1 [==============================] - 0s 37ms/step\n",
            "[2.4096958e-02 7.6036872e-03 6.1205876e-01 1.8397361e-02 1.0129933e-03\n",
            " 6.5355018e-02 3.7553504e-02 2.1557743e-03 1.2147180e-01 1.8689670e-03\n",
            " 3.0592722e-03 4.9968663e-04 2.3972539e-02 4.8384462e-02 1.1090781e-02\n",
            " 7.6666352e-04 2.0651758e-02]\n",
            "[2.7347295e-12 4.6251905e-14 9.2176830e-13 8.5489359e-12 1.0228522e-14\n",
            " 2.0154029e-11 4.2740646e-13 4.7711045e-12 2.2093732e-16 5.8305159e-11\n",
            " 3.1041903e-12 3.9175375e-15 1.0000000e+00 1.7818642e-14 2.8479092e-15\n",
            " 3.7648426e-12 8.9369994e-13]\n",
            "2 12\n",
            "1/1 [==============================] - 0s 36ms/step\n",
            "1/1 [==============================] - 0s 24ms/step\n",
            "[9.3359267e-06 6.4042892e-05 4.1043815e-05 3.3390315e-05 3.5570836e-05\n",
            " 3.4354114e-05 2.1987566e-04 4.0565057e-05 1.3442447e-04 9.9921703e-01\n",
            " 2.2843874e-08 9.0757106e-07 7.4311920e-06 3.5715675e-05 3.1210588e-05\n",
            " 2.9850542e-06 9.2054899e-05]\n",
            "[1.9415078e-20 2.0361248e-22 9.9685834e-15 2.7467972e-18 2.5933397e-21\n",
            " 4.1432153e-12 1.5023064e-11 5.3717795e-24 1.5373213e-24 1.0000000e+00\n",
            " 2.1121955e-27 5.0476387e-35 9.1283631e-25 3.9746299e-24 2.0939496e-22\n",
            " 5.8815308e-21 2.3721079e-19]\n",
            "9 9\n",
            "1/1 [==============================] - 0s 36ms/step\n",
            "1/1 [==============================] - 0s 46ms/step\n",
            "[1.0534632e-04 9.8368281e-01 1.1297005e-02 2.5491658e-04 9.5239382e-05\n",
            " 4.8677481e-05 9.1759808e-05 1.9435596e-04 4.7537158e-04 3.9075335e-04\n",
            " 4.8602728e-06 2.5904749e-06 8.8899942e-05 2.3992160e-04 1.9658746e-03\n",
            " 1.0935516e-04 9.5226261e-04]\n",
            "[3.98628330e-28 1.00000000e+00 1.09571292e-20 2.33025201e-14\n",
            " 2.10047051e-29 1.28906865e-18 3.08434078e-17 1.57140225e-24\n",
            " 3.94331603e-20 1.38946426e-23 3.97523250e-26 2.86208913e-30\n",
            " 1.67316301e-25 2.25098647e-27 1.13692205e-26 3.71373531e-23\n",
            " 4.17327664e-26]\n",
            "1 1\n",
            "1/1 [==============================] - 0s 23ms/step\n",
            "1/1 [==============================] - 0s 26ms/step\n",
            "[0.24211365 0.00046618 0.06338547 0.3747553  0.00200331 0.04708648\n",
            " 0.06354072 0.00047548 0.07594375 0.00099968 0.00133404 0.00207297\n",
            " 0.0046766  0.00833234 0.00979016 0.00858013 0.09444369]\n",
            "[9.7608918e-08 2.3935509e-09 1.4009504e-02 8.8778057e-04 1.1071842e-09\n",
            " 6.3854703e-03 9.5491928e-01 8.1544734e-08 6.7204377e-07 2.3752926e-02\n",
            " 1.2319681e-08 4.3898635e-12 1.9586942e-08 4.9690970e-11 5.1814578e-07\n",
            " 2.1378672e-05 2.2249813e-05]\n",
            "3 6\n",
            "1/1 [==============================] - 0s 25ms/step\n",
            "1/1 [==============================] - 0s 25ms/step\n",
            "[7.70114036e-03 1.10547412e-02 1.18263707e-01 1.27131520e-02\n",
            " 4.33712499e-03 1.70561094e-02 1.05548635e-01 1.29077805e-03\n",
            " 4.93881404e-02 2.00746302e-03 3.42937783e-05 1.29983039e-03\n",
            " 1.64714805e-03 2.68518273e-02 5.73263764e-01 2.31266953e-02\n",
            " 4.44154739e-02]\n",
            "[2.3360071e-28 6.1466752e-28 1.9728712e-21 7.8650586e-25 3.1549841e-29\n",
            " 1.2107872e-19 2.1634172e-14 1.0052337e-27 1.0237638e-25 5.7958499e-13\n",
            " 5.6575620e-32 3.6968340e-36 3.9249706e-38 3.5242457e-30 1.0000000e+00\n",
            " 2.5474234e-28 1.7024724e-30]\n",
            "14 14\n",
            "1/1 [==============================] - 0s 29ms/step\n",
            "1/1 [==============================] - 0s 24ms/step\n",
            "[4.2188052e-02 8.6881425e-03 5.1009599e-02 6.0315877e-03 3.0992882e-04\n",
            " 1.7852493e-02 7.5614399e-01 4.2856121e-04 1.3298302e-02 9.7926706e-04\n",
            " 8.2062826e-02 2.0661781e-04 1.5781216e-03 5.8849979e-05 8.8991430e-03\n",
            " 5.0168840e-04 9.7627947e-03]\n",
            "[3.6147825e-12 9.4673028e-12 8.5655422e-10 8.9816669e-13 2.1820475e-15\n",
            " 1.0266625e-12 7.2076898e-16 5.0054100e-11 2.9452617e-12 5.9068639e-06\n",
            " 9.9999404e-01 1.7075378e-20 1.1317210e-14 9.2891953e-17 3.1652723e-14\n",
            " 1.3445109e-14 1.5462167e-16]\n",
            "6 10\n",
            "1/1 [==============================] - 0s 24ms/step\n",
            "1/1 [==============================] - 0s 25ms/step\n",
            "[1.4939904e-03 8.2441252e-03 1.1870523e-02 7.6004345e-04 1.9859539e-02\n",
            " 7.6545109e-03 4.6561034e-03 1.2118809e-03 7.2360813e-04 1.0709176e-02\n",
            " 4.9259015e-05 5.1519470e-05 2.5971024e-03 8.6050367e-01 4.1148394e-02\n",
            " 1.0045130e-03 2.7461972e-02]\n",
            "[4.0635545e-13 9.8636702e-14 1.4071549e-10 5.1836335e-13 4.5989911e-14\n",
            " 1.3627246e-07 9.9975914e-01 2.9680359e-17 1.2027220e-18 2.4068022e-04\n",
            " 1.6767526e-18 3.1907944e-23 1.6600688e-21 1.9505885e-17 6.9808932e-09\n",
            " 3.6414179e-15 1.3717905e-13]\n",
            "13 6\n",
            "1/1 [==============================] - 0s 25ms/step\n",
            "1/1 [==============================] - 0s 26ms/step\n",
            "[9.99991298e-01 4.56701805e-08 4.82737278e-06 1.49219872e-07\n",
            " 8.68816059e-08 1.19895525e-08 1.26989306e-07 1.36436972e-06\n",
            " 3.26041146e-07 1.95832541e-07 2.42788168e-11 5.30829714e-10\n",
            " 7.81860592e-07 8.92973731e-08 4.41891359e-08 7.31931538e-09\n",
            " 7.42538759e-07]\n",
            "[9.9999988e-01 2.4167827e-14 1.3697299e-07 3.1181385e-10 1.1892882e-15\n",
            " 1.2468338e-08 9.3172836e-10 2.5631111e-10 1.5517858e-09 9.4587038e-10\n",
            " 1.7958308e-12 4.7932124e-20 2.5819808e-11 1.4974927e-17 7.7136207e-15\n",
            " 1.8625868e-13 6.9160708e-14]\n",
            "0 0\n",
            "1/1 [==============================] - 0s 40ms/step\n",
            "1/1 [==============================] - 0s 36ms/step\n",
            "[1.0534632e-04 9.8368281e-01 1.1297005e-02 2.5491658e-04 9.5239382e-05\n",
            " 4.8677481e-05 9.1759808e-05 1.9435596e-04 4.7537158e-04 3.9075335e-04\n",
            " 4.8602728e-06 2.5904749e-06 8.8899942e-05 2.3992160e-04 1.9658746e-03\n",
            " 1.0935516e-04 9.5226261e-04]\n",
            "[3.98628330e-28 1.00000000e+00 1.09571292e-20 2.33025201e-14\n",
            " 2.10047051e-29 1.28906865e-18 3.08434078e-17 1.57140225e-24\n",
            " 3.94331603e-20 1.38946426e-23 3.97523250e-26 2.86208913e-30\n",
            " 1.67316301e-25 2.25098647e-27 1.13692205e-26 3.71373531e-23\n",
            " 4.17327664e-26]\n",
            "1 1\n",
            "1/1 [==============================] - 0s 23ms/step\n",
            "1/1 [==============================] - 0s 24ms/step\n",
            "[1.13221344e-04 4.96937137e-04 9.97605801e-01 2.74247781e-04\n",
            " 1.81996846e-04 1.63428140e-05 1.41034092e-04 5.76326856e-05\n",
            " 1.90513252e-04 2.60094210e-04 2.80676704e-06 2.19279286e-07\n",
            " 8.10046276e-06 3.88222325e-05 3.44222208e-04 9.90512217e-06\n",
            " 2.58042623e-04]\n",
            "[2.9370938e-20 1.1444341e-23 1.0000000e+00 8.7042503e-21 5.5474012e-22\n",
            " 5.5081140e-23 1.4947348e-19 1.1639701e-22 4.8434204e-23 5.8463114e-17\n",
            " 1.3736897e-24 1.7437904e-37 2.5481284e-24 1.3104838e-24 3.3290091e-23\n",
            " 1.0860728e-24 1.0205558e-23]\n",
            "2 2\n",
            "1/1 [==============================] - 0s 24ms/step\n",
            "1/1 [==============================] - 0s 24ms/step\n",
            "[6.8107955e-03 1.0190185e-03 3.8634827e-03 9.6411675e-01 1.8043102e-04\n",
            " 1.3891319e-03 1.5534633e-02 9.9957462e-05 3.1996123e-03 1.7454133e-04\n",
            " 8.2072384e-06 2.0223559e-05 1.9028348e-04 1.0520444e-03 9.7409607e-04\n",
            " 9.3054092e-05 1.2738003e-03]\n",
            "[5.7245927e-12 6.8840378e-10 5.3482360e-08 9.9999976e-01 6.8571815e-15\n",
            " 2.3082522e-07 1.0877561e-09 3.8342138e-13 6.0965174e-12 1.3202323e-10\n",
            " 1.4465679e-15 1.9672833e-17 1.3441558e-12 6.7258826e-16 1.3434945e-12\n",
            " 2.4338651e-11 1.5169331e-15]\n",
            "3 3\n",
            "1/1 [==============================] - 0s 23ms/step\n",
            "1/1 [==============================] - 0s 24ms/step\n",
            "[4.2188052e-02 8.6881425e-03 5.1009599e-02 6.0315877e-03 3.0992882e-04\n",
            " 1.7852493e-02 7.5614399e-01 4.2856121e-04 1.3298302e-02 9.7926706e-04\n",
            " 8.2062826e-02 2.0661781e-04 1.5781216e-03 5.8849979e-05 8.8991430e-03\n",
            " 5.0168840e-04 9.7627947e-03]\n",
            "[3.6147825e-12 9.4673028e-12 8.5655422e-10 8.9816669e-13 2.1820475e-15\n",
            " 1.0266625e-12 7.2076898e-16 5.0054100e-11 2.9452617e-12 5.9068639e-06\n",
            " 9.9999404e-01 1.7075378e-20 1.1317210e-14 9.2891953e-17 3.1652723e-14\n",
            " 1.3445109e-14 1.5462167e-16]\n",
            "6 10\n",
            "1/1 [==============================] - 0s 22ms/step\n",
            "1/1 [==============================] - 0s 25ms/step\n",
            "[1.04496032e-01 2.56241672e-03 1.16756245e-01 3.42395037e-01\n",
            " 1.29886006e-03 1.01107061e-01 2.03827679e-01 3.16138903e-04\n",
            " 4.66344319e-02 2.25193007e-03 2.61054486e-02 4.00943495e-03\n",
            " 5.96798817e-03 1.08429592e-03 1.45337107e-02 1.25498092e-03\n",
            " 2.53982842e-02]\n",
            "[2.4503384e-09 1.2473987e-10 7.3126780e-06 1.3372782e-05 4.6088178e-11\n",
            " 4.1618785e-03 1.1852177e-04 1.3199820e-12 1.5773080e-10 1.6594467e-01\n",
            " 8.1944045e-06 8.2974571e-01 1.8697710e-12 2.8139852e-14 3.4292711e-07\n",
            " 6.0497683e-08 4.8460042e-13]\n",
            "3 11\n",
            "1/1 [==============================] - 0s 24ms/step\n",
            "1/1 [==============================] - 0s 26ms/step\n",
            "[2.4096958e-02 7.6036872e-03 6.1205876e-01 1.8397361e-02 1.0129933e-03\n",
            " 6.5355018e-02 3.7553504e-02 2.1557743e-03 1.2147180e-01 1.8689670e-03\n",
            " 3.0592722e-03 4.9968663e-04 2.3972539e-02 4.8384462e-02 1.1090781e-02\n",
            " 7.6666352e-04 2.0651758e-02]\n",
            "[2.7347295e-12 4.6251905e-14 9.2176830e-13 8.5489359e-12 1.0228522e-14\n",
            " 2.0154029e-11 4.2740646e-13 4.7711045e-12 2.2093732e-16 5.8305159e-11\n",
            " 3.1041903e-12 3.9175375e-15 1.0000000e+00 1.7818642e-14 2.8479092e-15\n",
            " 3.7648426e-12 8.9369994e-13]\n",
            "2 12\n",
            "1/1 [==============================] - 0s 28ms/step\n",
            "1/1 [==============================] - 0s 23ms/step\n",
            "[3.3147313e-07 4.5637930e-07 7.4616804e-07 9.7372371e-08 1.2972619e-05\n",
            " 3.8587750e-08 5.5319859e-08 7.1365116e-07 2.9479484e-06 4.1288786e-07\n",
            " 1.6969268e-11 1.8955194e-07 6.7639479e-07 9.9997771e-01 1.5642646e-06\n",
            " 3.0169949e-07 7.1919220e-07]\n",
            "[5.21745847e-09 3.25122117e-11 1.05852873e-08 4.48350995e-10\n",
            " 5.60762721e-12 3.02267154e-08 1.95174987e-09 2.89101243e-11\n",
            " 2.50826378e-12 5.00696005e-05 1.01300255e-13 3.76657976e-15\n",
            " 2.28052063e-10 9.99922991e-01 8.80715639e-12 2.68810345e-05\n",
            " 3.12059059e-12]\n",
            "13 13\n",
            "Keyboard interruption in main thread... closing server.\n",
            "Killing tunnel 127.0.0.1:7860 <> https://79d2b8db7af4e96af3.gradio.live\n"
          ]
        },
        {
          "output_type": "execute_result",
          "data": {
            "text/plain": []
          },
          "metadata": {},
          "execution_count": 75
        }
      ]
    },
    {
      "cell_type": "code",
      "metadata": {
        "id": "p89GWeJVbZ8q"
      },
      "source": [],
      "execution_count": null,
      "outputs": []
    }
  ]
}